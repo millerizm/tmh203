{
 "cells": [
  {
   "cell_type": "markdown",
   "metadata": {},
   "source": [
    "# hafta 1 \n",
    "* platform ve kaynak tanıtımı\n",
    "* temel kavramlar"
   ]
  },
  {
   "cell_type": "markdown",
   "metadata": {},
   "source": [
    "\n",
    "ilk kod"
   ]
  },
  {
   "cell_type": "code",
   "execution_count": 1,
   "metadata": {},
   "outputs": [
    {
     "name": "stdout",
     "output_type": "stream",
     "text": [
      "merhaba\n"
     ]
    }
   ],
   "source": [
    "print(\"merhaba\")"
   ]
  },
  {
   "cell_type": "markdown",
   "metadata": {},
   "source": [
    "# hafta 2 veri tipleri, değişkenler ve koşullar "
   ]
  },
  {
   "cell_type": "markdown",
   "metadata": {},
   "source": [
    "## karakter dizileri string(str)"
   ]
  },
  {
   "cell_type": "code",
   "execution_count": 2,
   "metadata": {},
   "outputs": [
    {
     "data": {
      "text/plain": [
       "'ileri bilgisayar programlama'"
      ]
     },
     "execution_count": 2,
     "metadata": {},
     "output_type": "execute_result"
    }
   ],
   "source": [
    "\"ileri bilgisayar programlama\""
   ]
  },
  {
   "cell_type": "code",
   "execution_count": 3,
   "metadata": {},
   "outputs": [
    {
     "ename": "SyntaxError",
     "evalue": "invalid syntax (<ipython-input-3-093f8682ca90>, line 1)",
     "output_type": "error",
     "traceback": [
      "\u001b[1;36m  File \u001b[1;32m\"<ipython-input-3-093f8682ca90>\"\u001b[1;36m, line \u001b[1;32m1\u001b[0m\n\u001b[1;33m    ileri bilgisayar programlama\u001b[0m\n\u001b[1;37m          ^\u001b[0m\n\u001b[1;31mSyntaxError\u001b[0m\u001b[1;31m:\u001b[0m invalid syntax\n"
     ]
    }
   ],
   "source": [
    "ileri bilgisayar programlama"
   ]
  },
  {
   "cell_type": "code",
   "execution_count": 4,
   "metadata": {},
   "outputs": [
    {
     "data": {
      "text/plain": [
       "' '"
      ]
     },
     "execution_count": 4,
     "metadata": {},
     "output_type": "execute_result"
    }
   ],
   "source": [
    "\"t\"\n",
    "\"\"\n",
    "\" \""
   ]
  },
  {
   "cell_type": "markdown",
   "metadata": {},
   "source": [
    "pythonda veri tipi doğrudan belirtilmez pythonda stringler tırnak içinde yazılır ve + ile birleştirilirler"
   ]
  },
  {
   "cell_type": "code",
   "execution_count": 5,
   "metadata": {},
   "outputs": [
    {
     "data": {
      "text/plain": [
       "'selam tıp mühendisleri'"
      ]
     },
     "execution_count": 5,
     "metadata": {},
     "output_type": "execute_result"
    }
   ],
   "source": [
    "\"selam \"+\"tıp mühendisleri\""
   ]
  },
  {
   "cell_type": "code",
   "execution_count": 6,
   "metadata": {},
   "outputs": [
    {
     "data": {
      "text/plain": [
       "'www'"
      ]
     },
     "execution_count": 6,
     "metadata": {},
     "output_type": "execute_result"
    }
   ],
   "source": [
    "\"w\"*3"
   ]
  },
  {
   "cell_type": "markdown",
   "metadata": {},
   "source": [
    "+ birleştirme yaparken * çoğaltma yapar"
   ]
  },
  {
   "cell_type": "code",
   "execution_count": 7,
   "metadata": {},
   "outputs": [
    {
     "data": {
      "text/plain": [
       "'--------------------'"
      ]
     },
     "execution_count": 7,
     "metadata": {},
     "output_type": "execute_result"
    }
   ],
   "source": [
    "\"-\"*20"
   ]
  },
  {
   "cell_type": "markdown",
   "metadata": {},
   "source": [
    "## type ve len fonksiyonları\n",
    "* type kullanılan verinin veya değişkenin tiipini verir.\n",
    "<br>\n",
    "* len kullanılan karakter dizisinin(str vs.) uzunluğunu verir."
   ]
  },
  {
   "cell_type": "code",
   "execution_count": 8,
   "metadata": {},
   "outputs": [
    {
     "data": {
      "text/plain": [
       "str"
      ]
     },
     "execution_count": 8,
     "metadata": {},
     "output_type": "execute_result"
    }
   ],
   "source": [
    "type(\"selam\")"
   ]
  },
  {
   "cell_type": "code",
   "execution_count": 9,
   "metadata": {},
   "outputs": [
    {
     "data": {
      "text/plain": [
       "'1812'"
      ]
     },
     "execution_count": 9,
     "metadata": {},
     "output_type": "execute_result"
    }
   ],
   "source": [
    "    \"18\"+\"12\""
   ]
  },
  {
   "cell_type": "code",
   "execution_count": 10,
   "metadata": {},
   "outputs": [
    {
     "data": {
      "text/plain": [
       "str"
      ]
     },
     "execution_count": 10,
     "metadata": {},
     "output_type": "execute_result"
    }
   ],
   "source": [
    "type(\"18\"+\"12\")"
   ]
  },
  {
   "cell_type": "code",
   "execution_count": 11,
   "metadata": {},
   "outputs": [
    {
     "data": {
      "text/plain": [
       "15"
      ]
     },
     "execution_count": 11,
     "metadata": {},
     "output_type": "execute_result"
    }
   ],
   "source": [
    "len(\"dostlar merhaba\")"
   ]
  },
  {
   "cell_type": "markdown",
   "metadata": {},
   "source": [
    "## sayılara giriş\n",
    "pythonda integer, float ve karmaşık sayılar bulunur.\n",
    "<br>\n",
    "float yani noktaı sayılar virgülle değil noktayla kullanılır."
   ]
  },
  {
   "cell_type": "code",
   "execution_count": 14,
   "metadata": {},
   "outputs": [
    {
     "data": {
      "text/plain": [
       "complex"
      ]
     },
     "execution_count": 14,
     "metadata": {},
     "output_type": "execute_result"
    }
   ],
   "source": [
    "type(10)\n",
    "type(10.1)\n",
    "type(10+2j)"
   ]
  },
  {
   "cell_type": "markdown",
   "metadata": {},
   "source": [
    "saylar arasında + - * / işaretleri kullanılabilir."
   ]
  },
  {
   "cell_type": "code",
   "execution_count": 15,
   "metadata": {},
   "outputs": [
    {
     "data": {
      "text/plain": [
       "5.0"
      ]
     },
     "execution_count": 15,
     "metadata": {},
     "output_type": "execute_result"
    }
   ],
   "source": [
    "15+3\n",
    "15-3\n",
    "15*3\n",
    "15/3"
   ]
  },
  {
   "cell_type": "markdown",
   "metadata": {},
   "source": [
    "## değişkenler "
   ]
  },
  {
   "cell_type": "markdown",
   "metadata": {},
   "source": [
    "BİR PROGRAM İÇİNDE DEĞERLERE VERİLEN İSİMDİR."
   ]
  },
  {
   "cell_type": "code",
   "execution_count": 18,
   "metadata": {},
   "outputs": [],
   "source": [
    "isim=\"mr. brownie\""
   ]
  },
  {
   "cell_type": "code",
   "execution_count": 19,
   "metadata": {},
   "outputs": [
    {
     "data": {
      "text/plain": [
       "'mr. brownie'"
      ]
     },
     "execution_count": 19,
     "metadata": {},
     "output_type": "execute_result"
    }
   ],
   "source": [
    "isim"
   ]
  },
  {
   "cell_type": "markdown",
   "metadata": {},
   "source": [
    "değişken belirleme kuralları;\n",
    "<br>\n",
    "* sayı ile başlayamaz.\n",
    "* aritmetik işaretlerle başlayamaz. (+ - vs.)\n",
    "* boşluk kullanılamaz.\n",
    "* özel kelimeler kullanılamaz.(for, if,while vs.)\n",
    "* büyük küçük harf ayrımına dikkat edilmelidir.\n",
    "* alfabe harfi veya alt çizgi ile başlayabilir.\n",
    "* olabildiğince ve okunabilir seçilmelidir.\n",
    "\n"
   ]
  },
  {
   "cell_type": "markdown",
   "metadata": {},
   "source": [
    "değişken olarak kullanılmayacak kelimeler aşağıdaki kod ile belirlenebilir."
   ]
  },
  {
   "cell_type": "code",
   "execution_count": 22,
   "metadata": {},
   "outputs": [
    {
     "name": "stdout",
     "output_type": "stream",
     "text": [
      "['False', 'None', 'True', 'and', 'as', 'assert', 'async', 'await', 'break', 'class', 'continue', 'def', 'del', 'elif', 'else', 'except', 'finally', 'for', 'from', 'global', 'if', 'import', 'in', 'is', 'lambda', 'nonlocal', 'not', 'or', 'pass', 'raise', 'return', 'try', 'while', 'with', 'yield']\n"
     ]
    },
    {
     "data": {
      "text/plain": [
       "list"
      ]
     },
     "execution_count": 22,
     "metadata": {},
     "output_type": "execute_result"
    }
   ],
   "source": [
    "import keyword\n",
    "yasakli_kelimeler=keyword.kwlist\n",
    "print(yasakli_kelimeler)\n",
    "len(yasakli_kelimeler)\n",
    "type(yasakli_kelimeler)"
   ]
  },
  {
   "cell_type": "code",
   "execution_count": 21,
   "metadata": {},
   "outputs": [
    {
     "data": {
      "text/plain": [
       "35"
      ]
     },
     "execution_count": 21,
     "metadata": {},
     "output_type": "execute_result"
    }
   ],
   "source": [
    "len(yasakli_kelimeler)"
   ]
  },
  {
   "cell_type": "markdown",
   "metadata": {},
   "source": [
    "### basit uygulama\n",
    "vize ve final notundan ortalama bulma\n",
    "<br>\n",
    "yarıçapı verilen dairenin alanını ve çevresini blma"
   ]
  },
  {
   "cell_type": "code",
   "execution_count": 28,
   "metadata": {},
   "outputs": [
    {
     "name": "stdout",
     "output_type": "stream",
     "text": [
      "82.0\n"
     ]
    }
   ],
   "source": [
    "vize=70\n",
    "final=90\n",
    "Not=(vize*0.4)+(final*0.6)\n",
    "print(Not)"
   ]
  },
  {
   "cell_type": "code",
   "execution_count": 29,
   "metadata": {},
   "outputs": [
    {
     "name": "stdout",
     "output_type": "stream",
     "text": [
      "1256.0\n",
      "125.60000000000001\n"
     ]
    }
   ],
   "source": [
    "pi=3.14\n",
    "r=20\n",
    "alan=pi*r*r\n",
    "cevre=2*pi*r\n",
    "print(alan)\n",
    "print(cevre)"
   ]
  },
  {
   "cell_type": "markdown",
   "metadata": {},
   "source": [
    "### bazı ipuçları"
   ]
  },
  {
   "cell_type": "markdown",
   "metadata": {},
   "source": [
    "aynı değere sahip değişkenleri birbiri peşi sıra tanımlayabilirsiniz."
   ]
  },
  {
   "cell_type": "code",
   "execution_count": 30,
   "metadata": {},
   "outputs": [],
   "source": [
    "a=b=c=5"
   ]
  },
  {
   "cell_type": "code",
   "execution_count": 31,
   "metadata": {},
   "outputs": [],
   "source": [
    "x=\"yazılım\"\n",
    "y=\"donanım\"\n",
    "gecici=x\n",
    "x=y\n",
    "y=gecici\n",
    "x,y=y,x"
   ]
  },
  {
   "cell_type": "code",
   "execution_count": 34,
   "metadata": {},
   "outputs": [
    {
     "data": {
      "text/plain": [
       "1594323"
      ]
     },
     "execution_count": 34,
     "metadata": {},
     "output_type": "execute_result"
    }
   ],
   "source": [
    "3**13\n"
   ]
  },
  {
   "cell_type": "markdown",
   "metadata": {},
   "source": [
    "kuvvet almak için ** kullanılabilir."
   ]
  },
  {
   "cell_type": "code",
   "execution_count": 37,
   "metadata": {},
   "outputs": [
    {
     "data": {
      "text/plain": [
       "9"
      ]
     },
     "execution_count": 37,
     "metadata": {},
     "output_type": "execute_result"
    }
   ],
   "source": [
    "#pow kuvvet almak için kullanılır önce kuvveti alınacak sayı sonra kuvvet yazılır\n",
    "pow(3,2)"
   ]
  },
  {
   "cell_type": "markdown",
   "metadata": {},
   "source": [
    "## print fonksiyonu\n",
    "değerleri ekrana veya dosyaya yazmaya yarayan fonksiyondur. en çok kullanılan parametresi \"sep\" PAARAMETRESİDİR. default olarak \" \" olarak belirlenmiştir. bir diğer sık kullanılan parametre ise \"end\" parametresidir."
   ]
  },
  {
   "cell_type": "code",
   "execution_count": 38,
   "metadata": {},
   "outputs": [
    {
     "name": "stdout",
     "output_type": "stream",
     "text": [
      "merhaba python gönüllüleri\n"
     ]
    }
   ],
   "source": [
    "print(\"merhaba python gönüllüleri\")"
   ]
  },
  {
   "cell_type": "code",
   "execution_count": 39,
   "metadata": {},
   "outputs": [
    {
     "name": "stdout",
     "output_type": "stream",
     "text": [
      "bugüne ait hava durumu:güneşli\n"
     ]
    }
   ],
   "source": [
    "print(\"bugüne ait hava durumu\",\"güneşli\",sep=\":\")"
   ]
  },
  {
   "cell_type": "markdown",
   "metadata": {},
   "source": [
    "tek tırnak, çift tırnak veya üçlü tırnak kullanılabilir ancak print hamgisi ile başladıysa onunla bitirilmelidir.bunun yanında comment(yorum) için # işareti kullanılır."
   ]
  },
  {
   "cell_type": "code",
   "execution_count": 43,
   "metadata": {},
   "outputs": [
    {
     "name": "stdout",
     "output_type": "stream",
     "text": [
      "karabük'ün plakası 78'dir.\n"
     ]
    }
   ],
   "source": [
    "print(\"karabük'ün plakası 78'dir.\")"
   ]
  },
  {
   "cell_type": "code",
   "execution_count": 44,
   "metadata": {},
   "outputs": [
    {
     "ename": "SyntaxError",
     "evalue": "EOL while scanning string literal (<ipython-input-44-84e0e2e60601>, line 4)",
     "output_type": "error",
     "traceback": [
      "\u001b[1;36m  File \u001b[1;32m\"<ipython-input-44-84e0e2e60601>\"\u001b[1;36m, line \u001b[1;32m4\u001b[0m\n\u001b[1;33m    insert coin \"\"\"\")\u001b[0m\n\u001b[1;37m                     \n^\u001b[0m\n\u001b[1;31mSyntaxError\u001b[0m\u001b[1;31m:\u001b[0m EOL while scanning string literal\n"
     ]
    }
   ],
   "source": [
    "print(\"\"\"game over\n",
    "\n",
    "\n",
    "insert coin \"\"\"\")"
   ]
  },
  {
   "cell_type": "markdown",
   "metadata": {},
   "source": [
    "PRİNT fonksiyonu birden fazla parametre alabilir."
   ]
  },
  {
   "cell_type": "code",
   "execution_count": 45,
   "metadata": {},
   "outputs": [
    {
     "name": "stdout",
     "output_type": "stream",
     "text": [
      "tıp mühendisliği\n",
      "tıp++mühendisliği\n"
     ]
    }
   ],
   "source": [
    "print(\"tıp\",\"mühendisliği\")\n",
    "print(\"tıp\",\"mühendisliği\",sep=\"++\")"
   ]
  },
  {
   "cell_type": "markdown",
   "metadata": {},
   "source": [
    "## input fonksiyonu\n",
    "kullaıcıdan konsol ekranında veri almak için kullanılır. string tipinde veri döndürür."
   ]
  },
  {
   "cell_type": "code",
   "execution_count": 46,
   "metadata": {},
   "outputs": [
    {
     "name": "stdout",
     "output_type": "stream",
     "text": [
      "isminizi giriniz:x\n",
      "merhaba x\n"
     ]
    }
   ],
   "source": [
    "isim=input(\"isminizi giriniz:\")\n",
    "print(\"merhaba \"+isim)"
   ]
  },
  {
   "cell_type": "markdown",
   "metadata": {},
   "source": [
    "## tip dönüşümleri\n",
    "* int(veri) integer dönüşümü\n",
    "* str(veri) string dönüşümü\n",
    "* float(veri) float dönüşümü\n",
    "* complex(veri) karmaşık sayı dönüşümü"
   ]
  },
  {
   "cell_type": "code",
   "execution_count": 47,
   "metadata": {},
   "outputs": [
    {
     "name": "stdout",
     "output_type": "stream",
     "text": [
      "3\n"
     ]
    }
   ],
   "source": [
    "print(int(3.14))"
   ]
  },
  {
   "cell_type": "code",
   "execution_count": 49,
   "metadata": {},
   "outputs": [
    {
     "name": "stdout",
     "output_type": "stream",
     "text": [
      "<class 'str'>\n",
      "3\n"
     ]
    }
   ],
   "source": [
    "n=\"3.14\"\n",
    "print(type(n))\n",
    "print(int(float(n)))"
   ]
  },
  {
   "cell_type": "code",
   "execution_count": 58,
   "metadata": {},
   "outputs": [
    {
     "name": "stdout",
     "output_type": "stream",
     "text": [
      "vizeyi girin55\n",
      "finali girin55\n",
      "82.0\n"
     ]
    }
   ],
   "source": [
    "vize=int(input(\"vizeyi girin\"))\n",
    "final=int(input(\"finali girin\"))\n",
    "ortalama=vize*0.4+final*0.6\n",
    "print(Not)"
   ]
  },
  {
   "cell_type": "code",
   "execution_count": 59,
   "metadata": {},
   "outputs": [
    {
     "name": "stdout",
     "output_type": "stream",
     "text": [
      "yarıçapı giriniz10\n",
      "314.0\n",
      "yarıçapı 10 olan dairenin alanı 314.0\n"
     ]
    }
   ],
   "source": [
    "r=int(input(\"yarıçapı giriniz\"))\n",
    "pi=3.14\n",
    "alan=pi*r**2\n",
    "print(alan)\n",
    "print(\"yarıçapı\",r,\"olan dairenin alanı\",alan)"
   ]
  },
  {
   "cell_type": "markdown",
   "metadata": {},
   "source": [
    "## format methodu"
   ]
  },
  {
   "cell_type": "code",
   "execution_count": 60,
   "metadata": {},
   "outputs": [
    {
     "name": "stdout",
     "output_type": "stream",
     "text": [
      "bugün hava güneşli ve 22 derecedir\n"
     ]
    }
   ],
   "source": [
    "print(\"bugün hava {} ve {} derecedir\".format(\"güneşli\",22))"
   ]
  },
  {
   "cell_type": "code",
   "execution_count": 61,
   "metadata": {},
   "outputs": [
    {
     "name": "stdout",
     "output_type": "stream",
     "text": [
      "bugün hava çok bulutu ve 13 derecedir\n"
     ]
    }
   ],
   "source": [
    "print(\"bugün hava {} ve {} derecedir\".format(\"çok bulutu\",13))"
   ]
  },
  {
   "cell_type": "code",
   "execution_count": 62,
   "metadata": {},
   "outputs": [
    {
     "name": "stdout",
     "output_type": "stream",
     "text": [
      "bugün hava kar yağışlı ve -5 derecedir\n"
     ]
    }
   ],
   "source": [
    "durum=\"bugün hava {} ve {} derecedir\"\n",
    "print(durum.format(\"kar yağışlı\",-5))"
   ]
  },
  {
   "cell_type": "markdown",
   "metadata": {},
   "source": [
    "## karşılaştırma operatörleri ve koşullar"
   ]
  },
  {
   "cell_type": "markdown",
   "metadata": {},
   "source": [
    "* if\n",
    "* elif\n",
    "* else"
   ]
  },
  {
   "cell_type": "code",
   "execution_count": 69,
   "metadata": {},
   "outputs": [
    {
     "name": "stdout",
     "output_type": "stream",
     "text": [
      "sayı girin6\n",
      "sayı ondanküçük\n"
     ]
    }
   ],
   "source": [
    "a=int(input(\"sayı girin\"))\n",
    "if a>10:\n",
    "    print(\"sayı ondna büyük\")\n",
    "    \n",
    "elif a==10:\n",
    "        print(\"sayıon\")\n",
    "    \n",
    "elif a<10:\n",
    "    print(\"sayı ondanküçük\")"
   ]
  },
  {
   "cell_type": "markdown",
   "metadata": {},
   "source": [
    "koşul deyimleri sonunda : eklenir ve koşul ile ilgili olan satır girintili olur."
   ]
  },
  {
   "cell_type": "code",
   "execution_count": 72,
   "metadata": {},
   "outputs": [
    {
     "name": "stdout",
     "output_type": "stream",
     "text": [
      "vizeyi girin8\n",
      "finali girin8\n",
      "finalden kldı\n"
     ]
    }
   ],
   "source": [
    "vize=int(input(\"vizeyi girin\"))\n",
    "final=int(input(\"finali girin\"))\n",
    "ortalama=vize*0.4+final*0.6\n",
    "if final<50:\n",
    "    print(\"finalden kldı\")\n",
    "elif ortalama<50:\n",
    "    print(\"ortalamadan kaldı\")\n",
    "else:\n",
    "    print(\"geçti:\",ortalama)"
   ]
  },
  {
   "cell_type": "code",
   "execution_count": 73,
   "metadata": {},
   "outputs": [
    {
     "name": "stdout",
     "output_type": "stream",
     "text": [
      "kenarı girin3\n",
      "diğer kenarı girin4\n",
      "hipotenus 5.0\n"
     ]
    }
   ],
   "source": [
    "a=int(input(\"kenarı girin\"))\n",
    "b=int(input(\"diğer kenarı girin\"))\n",
    "h=(a**2+b**2)**0.5\n",
    "print(\"hipotenus\",h)"
   ]
  },
  {
   "cell_type": "code",
   "execution_count": 76,
   "metadata": {},
   "outputs": [
    {
     "name": "stdout",
     "output_type": "stream",
     "text": [
      "sayı girin5\n",
      "diğer sayıyı girin8\n",
      "b adan büyük\n"
     ]
    }
   ],
   "source": [
    "a=int(input(\"sayı girin\"))\n",
    "b=int(input(\"diğer sayıyı girin\"))\n",
    "if a>b:\n",
    "    print(\"a bden büyük\")\n",
    "elif b>a:\n",
    "    print(\"b adan büyük\")\n",
    "else:\n",
    "    print(\"a bye eşit\")"
   ]
  },
  {
   "cell_type": "markdown",
   "metadata": {},
   "source": [
    "## ödev \n",
    "* 3 tane örnek problem\n",
    "* tek dosya olacak şekilde formatlanacak.\n",
    "* gtihub gitlab hesabı repo oluştur."
   ]
  },
  {
   "cell_type": "code",
   "execution_count": 7,
   "metadata": {},
   "outputs": [
    {
     "name": "stdout",
     "output_type": "stream",
     "text": [
      "adınız: 95\n",
      "kilonuz: 95\n",
      "boyunuz (cm) : 180\n",
      "95 kilo indeksin: 29.320987654320987 ve kilo değerlendirmen kilolu.\n"
     ]
    }
   ],
   "source": [
    "#vki bulma\n",
    "name = input('adınız: ')\n",
    "kg = float(input('kilonuz: '))\n",
    "hg = float(input(\"boyunuz (cm) : \"))\n",
    "\n",
    "index = (kg) / ((hg/100) ** 2)\n",
    "\n",
    "if (index >= 0) and (index<=18.4):\n",
    "   print(f'{name} kilo indeksin: {index} ve kilo değerlendirmen zayıf.')\n",
    "elif (index>18.4) and (index<=24.9):\n",
    "   print(f'{name} kilo indeksin: {index} ve kilo değerlendirmen normal.')\n",
    "elif (index>24.9) and (index<=29.9):\n",
    "   print(f'{name} kilo indeksin: {index} ve kilo değerlendirmen kilolu.')\n",
    "elif (index>=29.9) and (index<=45.9):\n",
    "   print(f'{name} kilo indeksin: {index} ve kilo değerlendirmen obez.')\n",
    "else:\n",
    "   print('bilgileriniz yanlış.')"
   ]
  },
  {
   "cell_type": "code",
   "execution_count": 8,
   "metadata": {},
   "outputs": [
    {
     "name": "stdout",
     "output_type": "stream",
     "text": [
      "sayı: 5\n",
      "girilen sayı pozitif ancak sayı tek.\n"
     ]
    }
   ],
   "source": [
    "#girilen sayı çift mi pozitif mi\n",
    "sayi = int(input('sayı: '))\n",
    "\n",
    "if (sayi > 0):\n",
    "    if (sayi % 2 ==0):\n",
    "        print('girilen sayı pozitif çift sayıdır.')\n",
    "    else:\n",
    "        print('girilen sayı pozitif ancak sayı tek.')\n",
    "else:\n",
    "    print('girilen sayı negatif sayı.')"
   ]
  },
  {
   "cell_type": "code",
   "execution_count": 37,
   "metadata": {},
   "outputs": [
    {
     "name": "stdout",
     "output_type": "stream",
     "text": [
      "ismi giriniz:asndasd\n",
      "şifre giriniz:12345\n",
      "şifre yanlış '12345' XkralTR tarafından alınmıştır\n"
     ]
    }
   ],
   "source": [
    "# şifreyle giriş\n",
    "\n",
    "isim=\"yusuf\"\n",
    "password=\"12345\"\n",
    "\n",
    "girilen_isim=input(\"ismi giriniz:\")\n",
    "girilen_sifre=input(\"şifre giriniz:\")\n",
    "\n",
    "if (girilen_isim==isim):\n",
    "    if (girilen_sifre==password):\n",
    "        print(\"giriş başarılı!!\")\n",
    "    else:\n",
    "        print(\"şifre yanlış '{}' XkralTR tarafından alınmıştır\".format(girilen_sifre))\n",
    "else:\n",
    "    print(\"kullanıcı bulunanamadı\")"
   ]
  },
  {
   "cell_type": "markdown",
   "metadata": {},
   "source": [
    "# hafta 3 operatörler ve döngüler(loops)"
   ]
  },
  {
   "cell_type": "markdown",
   "metadata": {},
   "source": [
    "## operatörler\n",
    "sağında ve solunda bulunan değerler arasında ilişki kuran işaretlerdir.\n",
    "ortadaki işarete **operatör** , sağ ve soldaki değerlere ise **operand** adı verilir.\n",
    "* aritmetik operatörler\n",
    "* karşılaştırma operatörleri\n",
    "* bool operatörleri\n",
    "* değer atama operatörleri\n",
    "* aitlik operatörleri\n"
   ]
  },
  {
   "cell_type": "markdown",
   "metadata": {},
   "source": [
    "### aritmetik operatörler\n",
    "|operatör|işlevi|\n",
    "|-----|---------|\n",
    "|+|toplama|\n",
    "|-|çıkarma|\n",
    "|*|çarpma|\n",
    "|/|bölme|\n",
    "|**|kuvvet|\n",
    "|%|mod alma|\n",
    "|//|taban bölme|"
   ]
  },
  {
   "cell_type": "code",
   "execution_count": 2,
   "metadata": {},
   "outputs": [
    {
     "name": "stdout",
     "output_type": "stream",
     "text": [
      "13\n",
      "3\n",
      "40\n",
      "1.6\n",
      "32768\n",
      "3\n",
      "1\n"
     ]
    }
   ],
   "source": [
    "a=8\n",
    "b=5\n",
    "print(a+b)\n",
    "print(a-b)\n",
    "print(a*b)\n",
    "print(a/b)\n",
    "print(a**b)\n",
    "print(a%b)\n",
    "print(a//b) #int(a/b)"
   ]
  },
  {
   "cell_type": "code",
   "execution_count": 5,
   "metadata": {},
   "outputs": [
    {
     "name": "stdout",
     "output_type": "stream",
     "text": [
      "bölümü giriniz 10\n",
      "böleni giriniz 4\n",
      "tam bölünmez 2.5\n"
     ]
    }
   ],
   "source": [
    "# girilen ilk sayını ikinci sayıya bölünüp bölünmediği\n",
    "\n",
    "a=int(input(\"bölümü giriniz \"))\n",
    "b=int(input(\"böleni giriniz \"))\n",
    "\n",
    "if a%b==0:\n",
    "    print(\"tam bölünür sonuç \",int(a/b))\n",
    "else:\n",
    "    print(\"tam bölünmez\",a/b)"
   ]
  },
  {
   "cell_type": "markdown",
   "metadata": {},
   "source": [
    "### karşılaştırma operatörleri\n",
    "|operatör|işlevi|\n",
    "|------|--------|\n",
    "|<|küçüktür|\n",
    "|>|büyüktür|\n",
    "|<=|küçük eşittir|\n",
    "|>=|büyük eşittir|\n",
    "|==|eşittir|\n",
    "|!=|eşit değildir|"
   ]
  },
  {
   "cell_type": "markdown",
   "metadata": {},
   "source": [
    "### bool operatörleri\n",
    "herhangi bir ifadenin doğru true ya da yanlış false olmasını sorgulayan operatördür."
   ]
  },
  {
   "cell_type": "code",
   "execution_count": 6,
   "metadata": {},
   "outputs": [
    {
     "data": {
      "text/plain": [
       "True"
      ]
     },
     "execution_count": 6,
     "metadata": {},
     "output_type": "execute_result"
    }
   ],
   "source": [
    "a=4\n",
    "a==4"
   ]
  },
  {
   "cell_type": "code",
   "execution_count": null,
   "metadata": {},
   "outputs": [],
   "source": []
  },
  {
   "cell_type": "code",
   "execution_count": 11,
   "metadata": {},
   "outputs": [
    {
     "data": {
      "text/plain": [
       "True"
      ]
     },
     "execution_count": 11,
     "metadata": {},
     "output_type": "execute_result"
    }
   ],
   "source": [
    "bool(2)\n",
    "bool(0)\n",
    "bool(\"\")\n",
    "bool(\"0\")\n",
    "bool(\" \")"
   ]
  },
  {
   "cell_type": "code",
   "execution_count": 13,
   "metadata": {},
   "outputs": [
    {
     "name": "stdout",
     "output_type": "stream",
     "text": [
      "kullanıcı adı giriniz\n",
      "kullanıcı adı boş bırakılamaz\n"
     ]
    }
   ],
   "source": [
    "kullanici=input(\"kullanıcı adı giriniz\")\n",
    "if bool(kullanici)==True:\n",
    "    print(\"teşekkürler\",kullanici)\n",
    "else:\n",
    "    print(\"kullanıcı adı boş bırakılamaz\")"
   ]
  },
  {
   "cell_type": "code",
   "execution_count": null,
   "metadata": {},
   "outputs": [],
   "source": [
    "kullanici=input(\"kullanıcı adı giriniz\")\n",
    "if kullanici:\n",
    "    print(\"teşekkürler\",kullanici)\n",
    "else:\n",
    "    print(\"kullanıcı adı boş bırakılamaz\")"
   ]
  },
  {
   "cell_type": "markdown",
   "metadata": {},
   "source": [
    "* and operatörü\n",
    "* or operatörü\n",
    "* not operatörü"
   ]
  },
  {
   "cell_type": "code",
   "execution_count": 22,
   "metadata": {},
   "outputs": [
    {
     "name": "stdout",
     "output_type": "stream",
     "text": [
      "kullanıcı adı giriniz\n",
      "parola giriniz\n",
      "lütfen kullanıcı adını,parolayı boş bırakmayınız\n"
     ]
    }
   ],
   "source": [
    "kullanici=input(\"kullanıcı adı giriniz\")\n",
    "parola=input(\"parola giriniz\")\n",
    "if not kullanici or not parola:\n",
    "    print(\"lütfen kullanıcı adını,parolayı boş bırakmayınız\")\n",
    "elif kullanici==\"abc\" and parola==\"123\":\n",
    "    print(\"teşekkürler \"+kullanici,\"sisteme hoş geldiniz\")\n",
    "else:\n",
    "    print(\"kullancı adı veya parola yanlış tekrar deneyiniz\")"
   ]
  },
  {
   "cell_type": "markdown",
   "metadata": {},
   "source": [
    "### değer atama operatörleri\n",
    "|operatör|işlevi|\n",
    "|----|-------|\n",
    "|=||\n",
    "|+=||\n",
    "|-=||\n",
    "|*=||\n",
    "|/=||\n",
    "|**=||\n",
    "|//=||\n",
    "|%=||"
   ]
  },
  {
   "cell_type": "code",
   "execution_count": 31,
   "metadata": {},
   "outputs": [
    {
     "data": {
      "text/plain": [
       "3"
      ]
     },
     "execution_count": 31,
     "metadata": {},
     "output_type": "execute_result"
    }
   ],
   "source": [
    "a=16\n",
    "a+=5\n",
    "a\n",
    "\n",
    "a=16\n",
    "a-=5\n",
    "a\n",
    "\n",
    "a=16\n",
    "a*=5\n",
    "a\n",
    "\n",
    "a=16\n",
    "a/=5\n",
    "a\n",
    "\n",
    "a=16\n",
    "a**=5\n",
    "a\n",
    "\n",
    "a=16\n",
    "a%=5\n",
    "a\n",
    "\n",
    "a=16\n",
    "a//=5\n",
    "a"
   ]
  },
  {
   "cell_type": "markdown",
   "metadata": {},
   "source": [
    "### aitlik operatörü\n",
    "bir karakter dizisi ya da sayının herhangi bir veri tipi içinde bulunup bulunmadığını sorgular ve **in** olmak üzere bir tane operatörü vardır."
   ]
  },
  {
   "cell_type": "code",
   "execution_count": 32,
   "metadata": {},
   "outputs": [
    {
     "data": {
      "text/plain": [
       "True"
      ]
     },
     "execution_count": 32,
     "metadata": {},
     "output_type": "execute_result"
    }
   ],
   "source": [
    "metin=\"abcd\"\n",
    "\"a\" in metin"
   ]
  },
  {
   "cell_type": "code",
   "execution_count": 33,
   "metadata": {},
   "outputs": [
    {
     "data": {
      "text/plain": [
       "False"
      ]
     },
     "execution_count": 33,
     "metadata": {},
     "output_type": "execute_result"
    }
   ],
   "source": [
    "\"h\" in metin"
   ]
  },
  {
   "cell_type": "code",
   "execution_count": 34,
   "metadata": {},
   "outputs": [
    {
     "name": "stdout",
     "output_type": "stream",
     "text": [
      "\n",
      "(1)topla\n",
      "(2)çıkar\n",
      "(3)çarp\n",
      "(4)böl\n",
      "(5)kuvvet al\n",
      "(6)mod al\n",
      "\n",
      "işlem numarasını giriniz4\n",
      "ilk sayıyı giriniz10\n",
      "diğer sayıyı giriniz2\n",
      "5.0\n"
     ]
    }
   ],
   "source": [
    "# basit hesap makinesi\n",
    "giris=\"\"\"\n",
    "(1)topla\n",
    "(2)çıkar\n",
    "(3)çarp\n",
    "(4)böl\n",
    "(5)kuvvet al\n",
    "(6)mod al\n",
    "\"\"\"\n",
    "print(giris)\n",
    "s=int(input(\"işlem numarasını giriniz\"))\n",
    "s1=int(input(\"ilk sayıyı giriniz\"))\n",
    "s2=int(input(\"diğer sayıyı giriniz\"))\n",
    "\n",
    "if s==1:\n",
    "    print(s1+s2)\n",
    "elif s==2:\n",
    "    print(s1-s2)\n",
    "elif s==3:\n",
    "    print(s1*s2)\n",
    "elif s==4:\n",
    "    print(s1/s2)\n",
    "elif s==5:\n",
    "    print(s1**s2)\n",
    "elif s==6:\n",
    "    print(s1%s2)\n",
    "else:\n",
    "    print(\"geçerli bir sayı giriniz\")\n"
   ]
  },
  {
   "cell_type": "code",
   "execution_count": 36,
   "metadata": {},
   "outputs": [
    {
     "name": "stdout",
     "output_type": "stream",
     "text": [
      "\n",
      "(1)topla\n",
      "(2)çıkar\n",
      "(3)çarp\n",
      "(4)böl\n",
      "(5)kuvvet al\n",
      "(6)mod al\n",
      "\n",
      "işlem numarasını giriniz1\n",
      "ilk sayıyı giriniz10\n",
      "diğer sayıyı giriniz1\n",
      "11\n"
     ]
    }
   ],
   "source": [
    "# basit hesap makinesi\n",
    "giris=\"\"\"\n",
    "(1)topla\n",
    "(2)çıkar\n",
    "(3)çarp\n",
    "(4)böl\n",
    "(5)kuvvet al\n",
    "(6)mod al\n",
    "\"\"\"\n",
    "print(giris)\n",
    "s=int(input(\"işlem numarasını giriniz\"))\n",
    "if s>=1 and s<=6:\n",
    "    s1=int(input(\"ilk sayıyı giriniz\"))\n",
    "    s2=int(input(\"diğer sayıyı giriniz\"))\n",
    "\n",
    "    if s==1:\n",
    "        print(s1+s2)\n",
    "    elif s==2:\n",
    "        print(s1-s2)\n",
    "    elif s==3:\n",
    "        print(s1*s2)\n",
    "    elif s==4:\n",
    "        print(s1/s2)\n",
    "    elif s==5:\n",
    "        print(s1**s2)\n",
    "    elif s==6:\n",
    "        print(s1%s2)\n",
    "else:\n",
    "     print(\"geçerli bir sayı giriniz\")\n",
    "\n"
   ]
  },
  {
   "cell_type": "markdown",
   "metadata": {},
   "source": [
    "## döngüler (loops)\n",
    "işlemlerin belirli bir şarta başlı olarak tekrarlanmasını sağlayan yapılardır.\n",
    "while ve for olmak üzere iki tür döngü vardır."
   ]
  },
  {
   "cell_type": "markdown",
   "metadata": {},
   "source": [
    "### while\n",
    "koşul doğru olduğu sürece çalışır."
   ]
  },
  {
   "cell_type": "code",
   "execution_count": 4,
   "metadata": {},
   "outputs": [
    {
     "name": "stdout",
     "output_type": "stream",
     "text": [
      "1\n",
      "2\n",
      "3\n",
      "4\n",
      "5\n",
      "6\n",
      "7\n",
      "8\n",
      "9\n",
      "10\n"
     ]
    }
   ],
   "source": [
    "a=0 \n",
    "while a<10:\n",
    "    a+=1\n",
    "    print(a)"
   ]
  },
  {
   "cell_type": "code",
   "execution_count": 12,
   "metadata": {},
   "outputs": [
    {
     "name": "stdout",
     "output_type": "stream",
     "text": [
      "2\n",
      "3\n",
      "4\n",
      "5\n",
      "6\n",
      "7\n",
      "8\n",
      "9\n",
      "10\n"
     ]
    }
   ],
   "source": [
    "a=1\n",
    "while a<10:\n",
    "    a+=1\n",
    "#sayaç kullanıyorsak kendiiz artırmalıyız\n",
    "    print(a)\n",
    "    "
   ]
  },
  {
   "cell_type": "code",
   "execution_count": 13,
   "metadata": {},
   "outputs": [
    {
     "name": "stdout",
     "output_type": "stream",
     "text": [
      "4 8 12 16 20 24 28 32 36 40 44 48 52 56 60 64 68 72 76 80 84 88 92 96 100 "
     ]
    }
   ],
   "source": [
    "#1 le 100 arasında 4 tam bölnenlerin listesi\n",
    "\n",
    "a=0\n",
    "while a<100:\n",
    "    a+=1\n",
    "    if a%4==0:\n",
    "        print(a,end=\" \")\n",
    "        "
   ]
  },
  {
   "cell_type": "code",
   "execution_count": 18,
   "metadata": {},
   "outputs": [
    {
     "name": "stdout",
     "output_type": "stream",
     "text": [
      "\n",
      "(1)topla\n",
      "(2)çıkar\n",
      "(3)çarp\n",
      "(4)böl\n",
      "(5)kuvvet al\n",
      "(6)mod al\n",
      "\n",
      "işlem numarasını giriniz(çıkmak için q)1\n",
      "ilk sayıyı giriniz12\n",
      "diğer sayıyı giriniz4\n",
      "16\n",
      "işlem numarasını giriniz(çıkmak için q)3\n",
      "ilk sayıyı giriniz5\n",
      "diğer sayıyı giriniz4\n",
      "20\n",
      "işlem numarasını giriniz(çıkmak için q)q\n",
      "çıkış yapıldı\n"
     ]
    }
   ],
   "source": [
    "# basit hesap makinesi\n",
    "giris=\"\"\"\n",
    "(1)topla\n",
    "(2)çıkar\n",
    "(3)çarp\n",
    "(4)böl\n",
    "(5)kuvvet al\n",
    "(6)mod al\n",
    "\"\"\"\n",
    "print(giris)\n",
    "\n",
    "kontrol=1\n",
    "while kontrol==1:\n",
    "    \n",
    "    s=input(\"işlem numarasını giriniz(çıkmak için q)\")\n",
    "    \n",
    "    if s==\"q\":\n",
    "        print(\"çıkış yapıldı\")\n",
    "        kontrol=0\n",
    "    elif int(s)>=1 and int(s)<=6:\n",
    "        s1=int(input(\"ilk sayıyı giriniz\"))\n",
    "        s2=int(input(\"diğer sayıyı giriniz\"))\n",
    "        s=int(s)\n",
    "        if s==1:\n",
    "            print(s1+s2)\n",
    "        elif s==2:\n",
    "            print(s1-s2)\n",
    "        elif s==3:\n",
    "            print(s1*s2)\n",
    "        elif s==4:\n",
    "            print(s1/s2)\n",
    "        elif s==5:\n",
    "            print(s1**s2)\n",
    "        elif s==6:\n",
    "            print(s1%s2)\n",
    "    else:\n",
    "         print(\"geçerli bir sayı giriniz\")\n",
    "\n"
   ]
  },
  {
   "cell_type": "markdown",
   "metadata": {},
   "source": [
    "### for\n",
    "in dizi veya in range olarak kullanılabilir. range kullanımında 3 parametre alınabilir.\n",
    "* 1 parametre: 0dan başlar ve bitişi gösterir\n",
    "* 2 parametre: başlangıç ve bitişi gösterir\n",
    "* 3 parametre: başlangıç bitiş ve aralığı gösterir\n"
   ]
  },
  {
   "cell_type": "code",
   "execution_count": 19,
   "metadata": {},
   "outputs": [
    {
     "name": "stdout",
     "output_type": "stream",
     "text": [
      "i l e r i   b i l g i s a y a r   p r o g r a m l a m a "
     ]
    }
   ],
   "source": [
    "ders_adi=\"ileri bilgisayar programlama\"\n",
    "for harf in ders_adi:\n",
    "    print(harf,end=\" \")"
   ]
  },
  {
   "cell_type": "code",
   "execution_count": 20,
   "metadata": {},
   "outputs": [
    {
     "name": "stdout",
     "output_type": "stream",
     "text": [
      "i l e r i   b i l g i s a y a r   p r o g r a m l a m a "
     ]
    }
   ],
   "source": [
    "for i in range(len(ders_adi)):\n",
    "    print(ders_adi[i],end=\" \")"
   ]
  },
  {
   "cell_type": "code",
   "execution_count": 23,
   "metadata": {},
   "outputs": [
    {
     "name": "stdout",
     "output_type": "stream",
     "text": [
      "5 7 9 11 13 15 17 19 "
     ]
    }
   ],
   "source": [
    "for i in range(5,20,2):\n",
    "    print(i,end=\" \")"
   ]
  },
  {
   "cell_type": "code",
   "execution_count": 24,
   "metadata": {},
   "outputs": [
    {
     "name": "stdout",
     "output_type": "stream",
     "text": [
      "i l e r i   b i l g i s a y a r   p r o g r a m l a m a "
     ]
    }
   ],
   "source": [
    "a=0\n",
    "while a<len(ders_adi):\n",
    "    print(ders_adi[a],end=\" \")\n",
    "    a+=1"
   ]
  },
  {
   "cell_type": "code",
   "execution_count": 25,
   "metadata": {},
   "outputs": [
    {
     "name": "stdout",
     "output_type": "stream",
     "text": [
      "1\n",
      "2\n",
      "3\n",
      "3\n",
      "4\n",
      "5\n",
      "6\n"
     ]
    }
   ],
   "source": [
    "sayi=\"1233456\"\n",
    "for rakam in sayi:\n",
    "    print(rakam)"
   ]
  },
  {
   "cell_type": "code",
   "execution_count": 27,
   "metadata": {},
   "outputs": [
    {
     "name": "stdout",
     "output_type": "stream",
     "text": [
      "28\n",
      "28\n"
     ]
    }
   ],
   "source": [
    "#len kullanmadan uzunluk bulmak\n",
    "\n",
    "sayac=0\n",
    "for harf in ders_adi:\n",
    "    sayac+=1\n",
    "print(sayac)\n",
    "print(len(ders_adi))"
   ]
  },
  {
   "cell_type": "markdown",
   "metadata": {},
   "source": [
    "### pass , break, continue,else\n",
    "* pass: görmezden gelmek için\n",
    "* break: kesinti yapmak için\n",
    "* continue:kendisinden sonra gelenleri atlayıp başa dönmek için kullanılır.\n",
    "* else: koşul sağlanamadığında yapılacaklar için kullanılır."
   ]
  },
  {
   "cell_type": "code",
   "execution_count": 28,
   "metadata": {},
   "outputs": [],
   "source": [
    "for i in range(10):\n",
    "    pass"
   ]
  },
  {
   "cell_type": "code",
   "execution_count": 29,
   "metadata": {},
   "outputs": [
    {
     "name": "stdout",
     "output_type": "stream",
     "text": [
      "sayı giriniz4854ş\n",
      "en fazla üç haneli sayı girebilirsiniz\n",
      "sayı giriniz45\n",
      "sayı giriniziptal\n"
     ]
    }
   ],
   "source": [
    "while True:\n",
    "    s=input(\"sayı giriniz\")\n",
    "    \n",
    "    if s==\"iptal\":\n",
    "        break\n",
    "    if len(s)<3:\n",
    "        continue\n",
    "    print(\"en fazla üç haneli sayı girebilirsiniz\")"
   ]
  },
  {
   "cell_type": "code",
   "execution_count": 33,
   "metadata": {},
   "outputs": [
    {
     "name": "stdout",
     "output_type": "stream",
     "text": [
      "a harfi bulunamadı tekrar deneiniz\n"
     ]
    }
   ],
   "source": [
    "text=\"döngüler konusu\"\n",
    "#text=\"merhaba dünya\"\n",
    "for harf in text:\n",
    "    if harf==\"a\":\n",
    "        print(\"a harfi bulundu\")\n",
    "        break\n",
    "else:\n",
    "    print(\"a harfi bulunamadı tekrar deneiniz\")"
   ]
  },
  {
   "cell_type": "markdown",
   "metadata": {},
   "source": [
    "#  Hafta 4 Uygulamalar"
   ]
  },
  {
   "cell_type": "code",
   "execution_count": 2,
   "metadata": {},
   "outputs": [
    {
     "name": "stdout",
     "output_type": "stream",
     "text": [
      "Bir sayı giriniz:12\n",
      "Girilen sayı çifttir.\n"
     ]
    }
   ],
   "source": [
    "#girilen sayının tek çift olduğunu söyleyen program\n",
    "s=int(input(\"Bir sayı giriniz:\"))\n",
    "if (s%2)==0:\n",
    "    print(\"Girilen sayı çifttir.\")\n",
    "else:\n",
    "    print(\"Girilen sayı tektir.\")"
   ]
  },
  {
   "cell_type": "code",
   "execution_count": 3,
   "metadata": {},
   "outputs": [
    {
     "name": "stdout",
     "output_type": "stream",
     "text": [
      "Bir sayı giriniz:100\n",
      "1 2 4 5 10 20 25 50 100 "
     ]
    }
   ],
   "source": [
    "#pozitif girilen bir sayının pozitif tam bölenlerini yazdırın\n",
    "s=int(input(\"Bir sayı giriniz:\"))\n",
    "if s<1:\n",
    "    print(\"Pozitif bir sayı giriniz\")\n",
    "else:\n",
    "    for i in range(1,s+1):\n",
    "        if s%i==0:\n",
    "            print(i,end=\" \")"
   ]
  },
  {
   "cell_type": "code",
   "execution_count": 4,
   "metadata": {},
   "outputs": [
    {
     "name": "stdout",
     "output_type": "stream",
     "text": [
      "Bir metin giriniz:merhaba\n",
      "Bir sayı giriniz:4\n",
      "merhaba\n",
      "merhaba\n",
      "merhaba\n",
      "merhaba\n"
     ]
    }
   ],
   "source": [
    "#girilen bir metni girilen sayı kadar alt alta yazdırın\n",
    "m=input(\"Bir metin giriniz:\")\n",
    "s=int(input(\"Bir sayı giriniz:\"))\n",
    "for i in range(s):\n",
    "    print(m)"
   ]
  },
  {
   "cell_type": "code",
   "execution_count": 5,
   "metadata": {},
   "outputs": [
    {
     "name": "stdout",
     "output_type": "stream",
     "text": [
      "Bir sayı giriniz:5\n",
      "1 \n",
      "1 2 \n",
      "1 2 3 \n",
      "1 2 3 4 \n",
      "1 2 3 4 5 \n"
     ]
    }
   ],
   "source": [
    "#1 den girilen sayıya kadar sayılardan dik üçgen oluşturun\n",
    "s=int(input(\"Bir sayı giriniz:\"))\n",
    "for i in range(1,s+1):\n",
    "    for j in range(1,i+1):\n",
    "        print(j,end=\" \")\n",
    "    print(\"\")"
   ]
  },
  {
   "cell_type": "code",
   "execution_count": 6,
   "metadata": {},
   "outputs": [
    {
     "name": "stdout",
     "output_type": "stream",
     "text": [
      "Bir sayı giriniz:-5\n",
      "Sayı asal değildir\n"
     ]
    }
   ],
   "source": [
    "#girilen sayının asal olup olmadığını belirleyin\n",
    "s=int(input(\"Bir sayı giriniz:\"))\n",
    "if s>1:\n",
    "    ifade=\"Sayı asaldır\"\n",
    "    for i in range(2,s):\n",
    "        if s%i==0:\n",
    "            ifade=\"Sayı asal değildir\"\n",
    "            break\n",
    "else:\n",
    "    ifade=\"Sayı asal değildir\"\n",
    "print(ifade)"
   ]
  },
  {
   "cell_type": "code",
   "execution_count": 7,
   "metadata": {},
   "outputs": [
    {
     "name": "stdout",
     "output_type": "stream",
     "text": [
      "Bir sayı giriniz:9\n",
      "2\n",
      "3\n",
      "5\n",
      "7\n"
     ]
    }
   ],
   "source": [
    "#girilen üst sınıra kadar asal sayıları yazdırın\n",
    "s=int(input(\"Bir sayı giriniz:\"))\n",
    "for i in range(2,s+1):\n",
    "    sayac=0\n",
    "    for j in range(2,i+1):\n",
    "        if i%j==0:\n",
    "            sayac+=1\n",
    "    if sayac<2:\n",
    "        print(i)\n",
    "        "
   ]
  },
  {
   "cell_type": "code",
   "execution_count": 8,
   "metadata": {},
   "outputs": [
    {
     "name": "stdout",
     "output_type": "stream",
     "text": [
      "Bir sayı giriniz:6\n",
      "720\n"
     ]
    }
   ],
   "source": [
    "# girilen sayının faktöriyelini bulun\n",
    "# 3!=1*2*3 =6\n",
    "s=int(input(\"Bir sayı giriniz:\"))\n",
    "f=1\n",
    "for i in range(1,s+1):\n",
    "    f*=i\n",
    "print(f)"
   ]
  },
  {
   "cell_type": "code",
   "execution_count": 9,
   "metadata": {},
   "outputs": [
    {
     "name": "stdout",
     "output_type": "stream",
     "text": [
      "Bir sayı giriniz:3\n",
      "Bir sayı giriniz:5\n",
      "Bir sayı giriniz:6\n",
      "4.666666666666667\n"
     ]
    }
   ],
   "source": [
    "#klavyeden girilen 3 sayının ortalamasını hesaplayıp yazdıran program\n",
    "n=3\n",
    "t=0\n",
    "for i in range(n):\n",
    "    s=int(input(\"Bir sayı giriniz:\"))\n",
    "    t+=s\n",
    "    \n",
    "print(t/n)"
   ]
  },
  {
   "cell_type": "code",
   "execution_count": 10,
   "metadata": {},
   "outputs": [
    {
     "name": "stdout",
     "output_type": "stream",
     "text": [
      "Bir sayı giriniz:3\n",
      "Bir sayı giriniz:5\n",
      "Bir sayı giriniz:6\n",
      "14\n",
      "4.666666666666667\n"
     ]
    }
   ],
   "source": [
    "n=3\n",
    "t=0\n",
    "sayac=0\n",
    "while sayac<n:\n",
    "    s=int(input(\"Bir sayı giriniz:\"))\n",
    "    t+=s\n",
    "    sayac+=1\n",
    "    \n",
    "print(t)\n",
    "print(t/n)"
   ]
  },
  {
   "cell_type": "markdown",
   "metadata": {},
   "source": [
    "# hafta 5 hata yakalama"
   ]
  },
  {
   "cell_type": "code",
   "execution_count": 2,
   "metadata": {},
   "outputs": [
    {
     "name": "stdout",
     "output_type": "stream",
     "text": [
      "karekökünü istediğiniz sayı:asd\n"
     ]
    },
    {
     "ename": "ValueError",
     "evalue": "invalid literal for int() with base 10: 'asd'",
     "output_type": "error",
     "traceback": [
      "\u001b[1;31m---------------------------------------------------------------------------\u001b[0m",
      "\u001b[1;31mValueError\u001b[0m                                Traceback (most recent call last)",
      "\u001b[1;32m<ipython-input-2-0231e8c2d245>\u001b[0m in \u001b[0;36m<module>\u001b[1;34m\u001b[0m\n\u001b[0;32m      1\u001b[0m \u001b[0msayi\u001b[0m\u001b[1;33m=\u001b[0m\u001b[0minput\u001b[0m\u001b[1;33m(\u001b[0m\u001b[1;34m\"karekökünü istediğiniz sayı:\"\u001b[0m\u001b[1;33m)\u001b[0m\u001b[1;33m\u001b[0m\u001b[1;33m\u001b[0m\u001b[0m\n\u001b[1;32m----> 2\u001b[1;33m \u001b[0mkarekok\u001b[0m\u001b[1;33m=\u001b[0m\u001b[0mint\u001b[0m\u001b[1;33m(\u001b[0m\u001b[0msayi\u001b[0m\u001b[1;33m)\u001b[0m\u001b[1;33m**\u001b[0m\u001b[1;36m0.5\u001b[0m\u001b[1;33m\u001b[0m\u001b[1;33m\u001b[0m\u001b[0m\n\u001b[0m\u001b[0;32m      3\u001b[0m \u001b[0mprint\u001b[0m\u001b[1;33m(\u001b[0m\u001b[0msayi\u001b[0m\u001b[1;33m,\u001b[0m\u001b[1;34m\"sayısının krekökü \"\u001b[0m\u001b[1;33m,\u001b[0m\u001b[0mkarekok\u001b[0m\u001b[1;33m)\u001b[0m\u001b[1;33m\u001b[0m\u001b[1;33m\u001b[0m\u001b[0m\n",
      "\u001b[1;31mValueError\u001b[0m: invalid literal for int() with base 10: 'asd'"
     ]
    }
   ],
   "source": [
    "sayi=input(\"karekökünü istediğiniz sayı:\")\n",
    "karekok=int(sayi)**0.5\n",
    "print(sayi,\"sayısının krekökü \",karekok)\n"
   ]
  },
  {
   "cell_type": "markdown",
   "metadata": {},
   "source": [
    "## hata türleri\n",
    "* programcı hataları (error)\n",
    "* program kusurları (bug)\n",
    "* istisnalar (exception)\n"
   ]
  },
  {
   "cell_type": "markdown",
   "metadata": {},
   "source": [
    "**programcı hataları**: doğrudan programı yazan kişinin dikkatsizliğinden kaynaklı hatalardır."
   ]
  },
  {
   "cell_type": "code",
   "execution_count": 3,
   "metadata": {},
   "outputs": [
    {
     "ename": "SyntaxError",
     "evalue": "invalid syntax (<ipython-input-3-ab30428b9d90>, line 1)",
     "output_type": "error",
     "traceback": [
      "\u001b[1;36m  File \u001b[1;32m\"<ipython-input-3-ab30428b9d90>\"\u001b[1;36m, line \u001b[1;32m1\u001b[0m\n\u001b[1;33m    print\"merhaba size\"\u001b[0m\n\u001b[1;37m         ^\u001b[0m\n\u001b[1;31mSyntaxError\u001b[0m\u001b[1;31m:\u001b[0m invalid syntax\n"
     ]
    }
   ],
   "source": [
    "print\"merhaba size\""
   ]
  },
  {
   "cell_type": "markdown",
   "metadata": {},
   "source": [
    "**program kusurları:** çoğu zaman hata vermeden çalışırlar ancak çıktılar beklenildiği gibi değildir."
   ]
  },
  {
   "cell_type": "code",
   "execution_count": 6,
   "metadata": {},
   "outputs": [
    {
     "name": "stdout",
     "output_type": "stream",
     "text": [
      "ilk sayıyı giriniz56\n",
      "ikinci sayıyı giriniz47\n",
      "56 + 47 = 5647\n"
     ]
    }
   ],
   "source": [
    "s1=input(\"ilk sayıyı giriniz\")\n",
    "s2=input(\"ikinci sayıyı giriniz\")\n",
    "print(s1,\"+\",s2,\"=\",s1+s2)"
   ]
  },
  {
   "cell_type": "markdown",
   "metadata": {},
   "source": [
    "**istisnalar:** programın çalışması sırasında ortaya çıkan normalden farklı durumlardır."
   ]
  },
  {
   "cell_type": "code",
   "execution_count": 8,
   "metadata": {},
   "outputs": [
    {
     "name": "stdout",
     "output_type": "stream",
     "text": [
      "ilk sayı:12\n",
      "ikinci sayı:0\n"
     ]
    },
    {
     "ename": "ZeroDivisionError",
     "evalue": "division by zero",
     "output_type": "error",
     "traceback": [
      "\u001b[1;31m---------------------------------------------------------------------------\u001b[0m",
      "\u001b[1;31mZeroDivisionError\u001b[0m                         Traceback (most recent call last)",
      "\u001b[1;32m<ipython-input-8-415e7799c44c>\u001b[0m in \u001b[0;36m<module>\u001b[1;34m\u001b[0m\n\u001b[0;32m      1\u001b[0m \u001b[0ma\u001b[0m\u001b[1;33m=\u001b[0m\u001b[0mint\u001b[0m\u001b[1;33m(\u001b[0m\u001b[0minput\u001b[0m\u001b[1;33m(\u001b[0m\u001b[1;34m\"ilk sayı:\"\u001b[0m\u001b[1;33m)\u001b[0m\u001b[1;33m)\u001b[0m\u001b[1;33m\u001b[0m\u001b[1;33m\u001b[0m\u001b[0m\n\u001b[0;32m      2\u001b[0m \u001b[0mb\u001b[0m\u001b[1;33m=\u001b[0m\u001b[0mint\u001b[0m\u001b[1;33m(\u001b[0m\u001b[0minput\u001b[0m\u001b[1;33m(\u001b[0m\u001b[1;34m\"ikinci sayı:\"\u001b[0m\u001b[1;33m)\u001b[0m\u001b[1;33m)\u001b[0m\u001b[1;33m\u001b[0m\u001b[1;33m\u001b[0m\u001b[0m\n\u001b[1;32m----> 3\u001b[1;33m \u001b[0mprint\u001b[0m\u001b[1;33m(\u001b[0m\u001b[0ma\u001b[0m\u001b[1;33m,\u001b[0m\u001b[1;34m\"/\"\u001b[0m\u001b[1;33m,\u001b[0m\u001b[0mb\u001b[0m\u001b[1;33m,\u001b[0m\u001b[1;34m\"=\"\u001b[0m\u001b[1;33m,\u001b[0m\u001b[0ma\u001b[0m\u001b[1;33m/\u001b[0m\u001b[0mb\u001b[0m\u001b[1;33m)\u001b[0m\u001b[1;33m\u001b[0m\u001b[1;33m\u001b[0m\u001b[0m\n\u001b[0m",
      "\u001b[1;31mZeroDivisionError\u001b[0m: division by zero"
     ]
    }
   ],
   "source": [
    "a=int(input(\"ilk sayı:\"))\n",
    "b=int(input(\"ikinci sayı:\"))\n",
    "print(a,\"/\",b,\"=\",a/b)"
   ]
  },
  {
   "cell_type": "markdown",
   "metadata": {},
   "source": [
    "## try.. except.."
   ]
  },
  {
   "cell_type": "code",
   "execution_count": 11,
   "metadata": {},
   "outputs": [
    {
     "name": "stdout",
     "output_type": "stream",
     "text": [
      "ilk sayı:12\n",
      "ikinci sayı:2\n",
      "12 / 2 = 6.0\n"
     ]
    }
   ],
   "source": [
    "try:\n",
    "    a=int(input(\"ilk sayı:\"))\n",
    "    b=int(input(\"ikinci sayı:\"))\n",
    "    print(a,\"/\",b,\"=\",a/b)\n",
    "except ValueError:\n",
    "    print(\"lütfen tam sayı giriniz\")"
   ]
  },
  {
   "cell_type": "code",
   "execution_count": null,
   "metadata": {},
   "outputs": [],
   "source": [
    "try:\n",
    "    hata verebileceğini düşündüğümüz kodlar\n",
    "except:\n",
    "    hata durumunda yapılacak işlem"
   ]
  },
  {
   "cell_type": "code",
   "execution_count": 12,
   "metadata": {},
   "outputs": [
    {
     "name": "stdout",
     "output_type": "stream",
     "text": [
      "ilk sayı:5\n",
      "ikinci sayı:5\n",
      "5 / 5 = 1.0\n"
     ]
    }
   ],
   "source": [
    "try:\n",
    "    a=int(input(\"ilk sayı:\"))\n",
    "    b=int(input(\"ikinci sayı:\"))\n",
    "    print(a,\"/\",b,\"=\",a/b)\n",
    "except ZeroDivisionError:\n",
    "    print(\"lütfen tam sayı giriniz\")"
   ]
  },
  {
   "cell_type": "code",
   "execution_count": 15,
   "metadata": {},
   "outputs": [
    {
     "name": "stdout",
     "output_type": "stream",
     "text": [
      "ilk sayı:55\n",
      "ikinci sayı:11\n",
      "55 / 11 = 5.0\n"
     ]
    }
   ],
   "source": [
    "try:\n",
    "    a=int(input(\"ilk sayı:\"))\n",
    "    b=int(input(\"ikinci sayı:\"))\n",
    "    print(a,\"/\",b,\"=\",a/b)\n",
    "except ValueError:\n",
    "    print(\"lütfen tam sayı giriniz\")\n",
    "except ZeroDivisionError:\n",
    "    print(\"sıfır dışında sayı giriniz\")"
   ]
  },
  {
   "cell_type": "code",
   "execution_count": 16,
   "metadata": {},
   "outputs": [
    {
     "name": "stdout",
     "output_type": "stream",
     "text": [
      "ilk sayı:45\n",
      "ikinci sayı:8\n",
      "45 / 8 = 5.625\n"
     ]
    }
   ],
   "source": [
    "try:\n",
    "    a=int(input(\"ilk sayı:\"))\n",
    "    b=int(input(\"ikinci sayı:\"))\n",
    "    print(a,\"/\",b,\"=\",a/b)\n",
    "except (ValueError,ZeroDivisionError):\n",
    "    print(\"hata oluştu verileri kontrol edin\")"
   ]
  },
  {
   "cell_type": "markdown",
   "metadata": {},
   "source": [
    "## try.. except.. as.."
   ]
  },
  {
   "cell_type": "code",
   "execution_count": 17,
   "metadata": {},
   "outputs": [
    {
     "ename": "ValueError",
     "evalue": "invalid literal for int() with base 10: 'p'",
     "output_type": "error",
     "traceback": [
      "\u001b[1;31m---------------------------------------------------------------------------\u001b[0m",
      "\u001b[1;31mValueError\u001b[0m                                Traceback (most recent call last)",
      "\u001b[1;32m<ipython-input-17-60f0c3fe18f8>\u001b[0m in \u001b[0;36m<module>\u001b[1;34m\u001b[0m\n\u001b[1;32m----> 1\u001b[1;33m \u001b[0mint\u001b[0m\u001b[1;33m(\u001b[0m\u001b[1;34m\"p\"\u001b[0m\u001b[1;33m)\u001b[0m\u001b[1;33m\u001b[0m\u001b[1;33m\u001b[0m\u001b[0m\n\u001b[0m",
      "\u001b[1;31mValueError\u001b[0m: invalid literal for int() with base 10: 'p'"
     ]
    }
   ],
   "source": [
    "int(\"p\")"
   ]
  },
  {
   "cell_type": "code",
   "execution_count": 18,
   "metadata": {},
   "outputs": [
    {
     "name": "stdout",
     "output_type": "stream",
     "text": [
      "ilk sayı:45\n",
      "ikinci sayı:k\n",
      "hata oluştu verileri kontrol edin\n",
      "invalid literal for int() with base 10: 'k'\n"
     ]
    }
   ],
   "source": [
    "try:\n",
    "    a=int(input(\"ilk sayı:\"))\n",
    "    b=int(input(\"ikinci sayı:\"))\n",
    "    print(a,\"/\",b,\"=\",a/b)\n",
    "except ValueError as hata:\n",
    "    print(\"hata oluştu verileri kontrol edin\")\n",
    "    print(hata)"
   ]
  },
  {
   "cell_type": "markdown",
   "metadata": {},
   "source": [
    "## try.. except.. else.."
   ]
  },
  {
   "cell_type": "code",
   "execution_count": 19,
   "metadata": {},
   "outputs": [
    {
     "name": "stdout",
     "output_type": "stream",
     "text": [
      "ilk sayı:45\n",
      "ikinci sayı:5\n",
      "45 / 5 = 9.0\n"
     ]
    }
   ],
   "source": [
    "try:\n",
    "    a=int(input(\"ilk sayı:\"))\n",
    "    b=int(input(\"ikinci sayı:\"))\n",
    "except ValueError:\n",
    "    print(\"lsayı giriniz\")\n",
    "else:\n",
    "    try:\n",
    "        print(a,\"/\",b,\"=\",a/b)\n",
    "    except ZeroDivisionError:\n",
    "        print(\"0 girilemez\")"
   ]
  },
  {
   "cell_type": "markdown",
   "metadata": {},
   "source": [
    "## try.. except.. finally.."
   ]
  },
  {
   "cell_type": "code",
   "execution_count": null,
   "metadata": {},
   "outputs": [],
   "source": [
    "try:\n",
    "    görevler\n",
    "except:\n",
    "    hata alınınca yapılacak işler \n",
    "finally:\n",
    "    hata olsa da olmasa da yapılacak işler"
   ]
  },
  {
   "cell_type": "markdown",
   "metadata": {},
   "source": [
    "## raise"
   ]
  },
  {
   "cell_type": "code",
   "execution_count": 23,
   "metadata": {},
   "outputs": [
    {
     "name": "stdout",
     "output_type": "stream",
     "text": [
      "şifre:şğöç\n"
     ]
    },
    {
     "ename": "TypeError",
     "evalue": "şifre içinde türkçe karakter kullanlamaz",
     "output_type": "error",
     "traceback": [
      "\u001b[1;31m---------------------------------------------------------------------------\u001b[0m",
      "\u001b[1;31mTypeError\u001b[0m                                 Traceback (most recent call last)",
      "\u001b[1;32m<ipython-input-23-e913e3a894cc>\u001b[0m in \u001b[0;36m<module>\u001b[1;34m\u001b[0m\n\u001b[0;32m      4\u001b[0m \u001b[1;32mfor\u001b[0m \u001b[0mi\u001b[0m \u001b[1;32min\u001b[0m \u001b[0msifre\u001b[0m\u001b[1;33m:\u001b[0m\u001b[1;33m\u001b[0m\u001b[1;33m\u001b[0m\u001b[0m\n\u001b[0;32m      5\u001b[0m     \u001b[1;32mif\u001b[0m \u001b[0mi\u001b[0m \u001b[1;32min\u001b[0m \u001b[0mtr_karakter\u001b[0m\u001b[1;33m:\u001b[0m\u001b[1;33m\u001b[0m\u001b[1;33m\u001b[0m\u001b[0m\n\u001b[1;32m----> 6\u001b[1;33m         \u001b[1;32mraise\u001b[0m \u001b[0mTypeError\u001b[0m\u001b[1;33m(\u001b[0m\u001b[1;34m\"şifre içinde türkçe karakter kullanlamaz\"\u001b[0m\u001b[1;33m)\u001b[0m\u001b[1;33m\u001b[0m\u001b[1;33m\u001b[0m\u001b[0m\n\u001b[0m\u001b[0;32m      7\u001b[0m     \u001b[1;32melse\u001b[0m\u001b[1;33m:\u001b[0m\u001b[1;33m\u001b[0m\u001b[1;33m\u001b[0m\u001b[0m\n\u001b[0;32m      8\u001b[0m         \u001b[1;32mpass\u001b[0m\u001b[1;33m\u001b[0m\u001b[1;33m\u001b[0m\u001b[0m\n",
      "\u001b[1;31mTypeError\u001b[0m: şifre içinde türkçe karakter kullanlamaz"
     ]
    }
   ],
   "source": [
    "tr_karakter=\"şçğüöı\"\n",
    "sifre=input(\"şifre:\")\n",
    "\n",
    "for i in sifre:\n",
    "    if i in tr_karakter:\n",
    "        raise TypeError(\"şifre içinde türkçe karakter kullanlamaz\")\n",
    "    else:\n",
    "        pass"
   ]
  },
  {
   "cell_type": "markdown",
   "metadata": {},
   "source": [
    "## tüm hataları yakalamak "
   ]
  },
  {
   "cell_type": "code",
   "execution_count": null,
   "metadata": {},
   "outputs": [],
   "source": [
    "try:\n",
    "    yapılacaklar\n",
    "except:\n",
    "    hata mesajı"
   ]
  },
  {
   "cell_type": "markdown",
   "metadata": {},
   "source": [
    "## uygulamalar"
   ]
  },
  {
   "cell_type": "code",
   "execution_count": 26,
   "metadata": {},
   "outputs": [
    {
     "name": "stdout",
     "output_type": "stream",
     "text": [
      "Bir sayı giriniz:oko\n",
      "sayı girin\n"
     ]
    }
   ],
   "source": [
    "#pozitif girilen bir sayının pozitif tam bölenlerini yazdırın\n",
    "try:\n",
    "    s=int(input(\"Bir sayı giriniz:\"))\n",
    "    if s<1:\n",
    "        print(\"Pozitif bir sayı giriniz\")\n",
    "    else:\n",
    "        for i in range(1,s+1):\n",
    "            if s%i==0:\n",
    "                print(i,end=\" \")\n",
    "except ValueError:\n",
    "    print(\"sayı girin\")"
   ]
  },
  {
   "cell_type": "code",
   "execution_count": 43,
   "metadata": {},
   "outputs": [
    {
     "name": "stdout",
     "output_type": "stream",
     "text": [
      "bir sayı giriniz4\n",
      "bir sayı giriniz5\n",
      "bir sayı giriniz5\n",
      "bir sayı giriniz5\n",
      "bir sayı giriniz-8\n",
      "19\n"
     ]
    }
   ],
   "source": [
    "# - sayı girilene kadar girilen sayıların toplamını yazan program\n",
    "t=0\n",
    "while True:\n",
    "    try:\n",
    "        s=int(input(\"bir sayı giriniz\"))\n",
    "        if s>=0:\n",
    "            t+=s\n",
    "        else:\n",
    "            break\n",
    "    except ValueError:\n",
    "        print(\"sayı giriniz\")\n",
    "        \n",
    "print(t)"
   ]
  },
  {
   "cell_type": "code",
   "execution_count": 61,
   "metadata": {},
   "outputs": [
    {
     "ename": "IndentationError",
     "evalue": "unexpected indent (<ipython-input-61-687cb45296db>, line 6)",
     "output_type": "error",
     "traceback": [
      "\u001b[1;36m  File \u001b[1;32m\"<ipython-input-61-687cb45296db>\"\u001b[1;36m, line \u001b[1;32m6\u001b[0m\n\u001b[1;33m    n=0\u001b[0m\n\u001b[1;37m    ^\u001b[0m\n\u001b[1;31mIndentationError\u001b[0m\u001b[1;31m:\u001b[0m unexpected indent\n"
     ]
    }
   ],
   "source": [
    "# kendisi hariç bütün pozitif bölenlerinin toplamı kendisine eşit olan sayı mükemmel sayıdır.\n",
    "#girilen sayının mükemmel olup olmadığını bulunuz\n",
    "\n",
    "try:\n",
    "    s=int(input(\"Bir sayı giriniz:\"))\n",
    "        n=0\n",
    "    if s<1:\n",
    "        print(\"Pozitif bir sayı giriniz\")\n",
    "    else:\n",
    "        for i in range(1,s):\n",
    "            if s%i==0:\n",
    "                n+=i\n",
    "            else:\n",
    "                pass\n",
    "        if i==s:\n",
    "            print(\"mükemmel sayı\")\n",
    "        else:\n",
    "            print(\"mükemmle sayı değil\")\n",
    "except ValueError:\n",
    "    print(\"sayı giriniz\")"
   ]
  },
  {
   "cell_type": "code",
   "execution_count": 65,
   "metadata": {},
   "outputs": [
    {
     "name": "stdout",
     "output_type": "stream",
     "text": [
      "sayı giriniz8\n",
      "mükemmel sayı değil\n"
     ]
    }
   ],
   "source": [
    "try:\n",
    "    s=int(input(\"sayı giriniz\"))\n",
    "    t=0\n",
    "    for i in range(1,s):\n",
    "        if s%i==0:\n",
    "            t+=i\n",
    "    if s==t:\n",
    "        print(\"mükemmel sayı\")\n",
    "    else:\n",
    "        print(\"mükemmel sayı değil\")\n",
    "except ValueError:\n",
    "    print(\"sadece sayı griniz\")"
   ]
  },
  {
   "cell_type": "code",
   "execution_count": 75,
   "metadata": {},
   "outputs": [
    {
     "name": "stdout",
     "output_type": "stream",
     "text": [
      "77175\n"
     ]
    }
   ],
   "source": [
    "#1600 ve 2800 arasında 5 ve 7 katı sayıları yazdırın\n",
    "try:\n",
    "    t=0\n",
    "    for i in range(1600,2801):\n",
    "        if i%35==0:\n",
    "            t+=i\n",
    "        else:\n",
    "            pass\n",
    "\n",
    "    print(t)\n",
    "except ValueError:\n",
    "    print(\"sayı griiniz\")"
   ]
  },
  {
   "cell_type": "code",
   "execution_count": 77,
   "metadata": {},
   "outputs": [
    {
     "name": "stdout",
     "output_type": "stream",
     "text": [
      "sayı giriniz456\n",
      "15\n"
     ]
    }
   ],
   "source": [
    "# girilen sayının basamaklarındaki rakamların toplamını bulunuz\n",
    "s=int(input(\"sayı giriniz\"))\n",
    "t=0\n",
    "\n",
    "while s>=10:\n",
    "    t=t+(s%10)\n",
    "    s=s//10\n",
    "t+=s\n",
    "print(t)"
   ]
  },
  {
   "cell_type": "code",
   "execution_count": 19,
   "metadata": {},
   "outputs": [
    {
     "name": "stdout",
     "output_type": "stream",
     "text": [
      "ilk metini giriniz:sdfsf\n",
      "ikinci metini giriniz:ghjghjsas\n",
      "' d ' karakteri ilk metinde vardır ikincide yoktur.\n",
      "' f ' karakteri ilk metinde vardır ikincide yoktur.\n",
      "' f ' karakteri ilk metinde vardır ikincide yoktur.\n"
     ]
    }
   ],
   "source": [
    "#iki metini karşılaştırıp ilkinde olup ikincide olmayanları belirleyin\n",
    "\n",
    "a=input(\"ilk metini giriniz:\")\n",
    "b=input(\"ikinci metini giriniz:\")\n",
    "for i in a:\n",
    "    if i not in b:\n",
    "        print(\"'\",i,\"'\",\"karakteri ilk metinde vardır ikincide yoktur.\")\n"
   ]
  },
  {
   "cell_type": "code",
   "execution_count": null,
   "metadata": {},
   "outputs": [],
   "source": []
  }
 ],
 "metadata": {
  "kernelspec": {
   "display_name": "Python 3",
   "language": "python",
   "name": "python3"
  },
  "language_info": {
   "codemirror_mode": {
    "name": "ipython",
    "version": 3
   },
   "file_extension": ".py",
   "mimetype": "text/x-python",
   "name": "python",
   "nbconvert_exporter": "python",
   "pygments_lexer": "ipython3",
   "version": "3.8.5"
  }
 },
 "nbformat": 4,
 "nbformat_minor": 4
}
